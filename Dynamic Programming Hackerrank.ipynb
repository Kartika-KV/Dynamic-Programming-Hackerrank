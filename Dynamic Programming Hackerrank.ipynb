{
 "cells": [
  {
   "cell_type": "markdown",
   "metadata": {},
   "source": [
    "## THE_COIN_CHANGE_PROBLEM"
   ]
  },
  {
   "cell_type": "markdown",
   "metadata": {},
   "source": [
    "Given an amount and the denominations of coins available, determine how many ways change can be made for amount. There is a limitless supply of each coin type.\n",
    "\n",
    "Example\n",
    "n=3\n",
    "c=[8,3,2,1]\n",
    "\n",
    "\n",
    "There are 3 ways to make change for n=3 : {1,1,1},{1,2},{3}\n",
    "\n",
    "Function Description\n",
    "\n",
    "Complete the getWays function in the editor below.\n",
    "\n",
    "getWays has the following parameter(s):\n",
    "\n",
    "int n: the amount to make change for\n",
    "int c[m]: the available coin denominations\n",
    "Returns\n",
    "\n",
    "int: the number of ways to make change\n",
    "Input Format\n",
    "\n",
    "The first line contains two space-separated integers  and , where:\n",
    " is the amount to change\n",
    " is the number of coin types\n",
    "The second line contains  space-separated integers that describe the values of each coin type.\n",
    "\n"
   ]
  },
  {
   "cell_type": "code",
   "execution_count": 6,
   "metadata": {},
   "outputs": [
    {
     "name": "stdout",
     "output_type": "stream",
     "text": [
      "12\n",
      "1,2,5\n",
      "[1, 1, 2, 2, 3, 4, 5, 6, 7, 8, 10, 11, 13]\n",
      "13\n"
     ]
    }
   ],
   "source": [
    "def get_ways(n,c):\n",
    "    dp=[0]*(n+1)\n",
    "    dp[0]=1\n",
    "    for coin in c:\n",
    "        for i in range(len(dp)):\n",
    "            if i>=coin:\n",
    "                dp[i]+=dp[i-coin]\n",
    "    print(dp)\n",
    "    return dp[n]\n",
    "n=int(input())\n",
    "c=list(map(int,input().split(\",\")))\n",
    "print(get_ways(n,c))"
   ]
  },
  {
   "cell_type": "markdown",
   "metadata": {},
   "source": [
    "## Equal"
   ]
  },
  {
   "cell_type": "markdown",
   "metadata": {},
   "source": [
    "Christy is interning at HackerRank. One day she has to distribute some chocolates to her colleagues. She is biased towards her friends and plans to give them more than the others. One of the program managers hears of this and tells her to make sure everyone gets the same number.\n",
    "\n",
    "To make things difficult, she must equalize the number of chocolates in a series of operations. For each operation, she can give {1,2,5} pieces to all but one colleague. Everyone who gets a piece in a round receives the same number of pieces.\n",
    "\n",
    "Given a starting distribution, calculate the minimum number of operations needed so that every colleague has the same number of pieces.\n",
    "\n",
    "Example\n",
    "\n",
    "arr=[1,1,5]\n",
    "\n",
    "arr represents the starting numbers of pieces for each colleague. She can give 2 pieces to the first two and the distribution is then[3,3,5] . On the next round, she gives the same two  pieces each, and everyone has the same number:[5,5,5] . Return the number of rounds,2 ."
   ]
  },
  {
   "cell_type": "markdown",
   "metadata": {},
   "source": [
    "Reference video link https://www.youtube.com/watch?v=dLgV6lGv4CA"
   ]
  },
  {
   "cell_type": "code",
   "execution_count": 15,
   "metadata": {},
   "outputs": [
    {
     "name": "stdout",
     "output_type": "stream",
     "text": [
      "10,7,5\n",
      "2\n"
     ]
    }
   ],
   "source": [
    "def equal(arr):\n",
    "    possibilities=[0]*5\n",
    "    mini=min(arr)\n",
    "    for i in range(len(possibilities)):\n",
    "        \n",
    "        for k in arr:\n",
    "            diff=k-mini\n",
    "            steps_req=(diff//5) + (diff%5)//2 + ((diff%5)%2)//1\n",
    "            possibilities[i]+=steps_req\n",
    "        mini-=1\n",
    "    return min(possibilities)\n",
    "arr=list(map(int,input().split(\",\")))\n",
    "print(equal(arr))"
   ]
  },
  {
   "cell_type": "markdown",
   "metadata": {},
   "source": [
    "## Sherlock and Cost"
   ]
  },
  {
   "cell_type": "markdown",
   "metadata": {},
   "source": [
    "Video reference:- https://www.youtube.com/watch?v=7qMMqAIve78"
   ]
  },
  {
   "cell_type": "code",
   "execution_count": 17,
   "metadata": {},
   "outputs": [
    {
     "name": "stdout",
     "output_type": "stream",
     "text": [
      "3,15,4,12,10\n",
      "50\n"
     ]
    }
   ],
   "source": [
    "def cost(B):\n",
    "    n=len(B)\n",
    "    hi,low=0,0\n",
    "    for i in range(1,n):\n",
    "        high_to_low_diff=abs(B[i-1]-1)\n",
    "        low_to_high_diff=abs(B[i]-1)\n",
    "        high_to_high_diff=abs(B[i]-B[i-1])\n",
    "        low_next=max(low,hi+high_to_low_diff)\n",
    "        hi_next=max(hi+high_to_high_diff,low+low_to_high_diff)\n",
    "        hi,low=hi_next,low_next\n",
    "    return max(hi_next,low_next)\n",
    "B=list(map(int,input().split(\",\")))\n",
    "print(cost(B))"
   ]
  },
  {
   "cell_type": "markdown",
   "metadata": {},
   "source": [
    "## Construct the array"
   ]
  },
  {
   "cell_type": "markdown",
   "metadata": {},
   "source": [
    "Video link https://www.youtube.com/watch?v=_nLeiMMSd4E\n",
    "and give preference to  https://www.youtube.com/watch?v=plaTv9dnP9I"
   ]
  },
  {
   "cell_type": "code",
   "execution_count": 41,
   "metadata": {},
   "outputs": [
    {
     "name": "stdout",
     "output_type": "stream",
     "text": [
      "4\n",
      "3\n",
      "1\n",
      "2\n"
     ]
    }
   ],
   "source": [
    "n=int(input())\n",
    "k=int(input())\n",
    "x=int(input())\n",
    "def countArray(n, k, x):\n",
    "    MOD = 10**9+7\n",
    "    a=[0]*(n)\n",
    "    b=[0]*(n)\n",
    "    if x==1:\n",
    "        a[0]=1\n",
    "        b[1]=1\n",
    "    else:\n",
    "        a[0]=0\n",
    "        b[0]=1\n",
    "    for i in range(1,n):\n",
    "        a[i]=(b[i-1])%MOD\n",
    "        b[i]=(a[i-1]*(k-1)+b[i-1]*(k-2))%MOD\n",
    "    \n",
    "    return a[n-1]\n",
    "print(countArray(n,k,x))"
   ]
  },
  {
   "cell_type": "code",
   "execution_count": 35,
   "metadata": {},
   "outputs": [
    {
     "name": "stdout",
     "output_type": "stream",
     "text": [
      "4\n",
      "3\n",
      "1\n",
      "2\n"
     ]
    }
   ],
   "source": [
    "n=int(input())\n",
    "k=int(input())\n",
    "x=int(input())\n",
    "def countArray(n, k, x):\n",
    "    MOD = 10**9+7\n",
    "    dp0 = dp1 = 0\n",
    "    dp0old = 1\n",
    "    for end in range(2, n+1):\n",
    "        dp0 = (dp1*(k-1))%MOD\n",
    "        dp1 = (dp0old + dp1*(k-2))%MOD\n",
    "        dp0old = dp0\n",
    "    \n",
    "    if x==1:\n",
    "        return dp0\n",
    "    return dp1\n",
    "print(countArray(n,k,x))"
   ]
  },
  {
   "cell_type": "markdown",
   "metadata": {},
   "source": [
    "## Sam and Substrings"
   ]
  },
  {
   "cell_type": "markdown",
   "metadata": {},
   "source": [
    "Video link is -: https://www.geeksforgeeks.org/sum-of-all-substrings-of-a-string-representing-a-number/#:~:text=We%20can%20write%20a%20summation,n%20is%20length%20of%20string.&text=Using%20the%20above%20relation%20we%20can%20solve%20the%20problem%20in%20linear%20time."
   ]
  },
  {
   "cell_type": "code",
   "execution_count": 53,
   "metadata": {},
   "outputs": [
    {
     "name": "stdout",
     "output_type": "stream",
     "text": [
      "123\n",
      "164\n"
     ]
    }
   ],
   "source": [
    "n=input()\n",
    "def substrings(n):\n",
    "    MOD=10**9+7\n",
    "    l=len(n)\n",
    "    prev=int(n[0])\n",
    "    result=prev\n",
    "    current=0\n",
    "    for i in range(1,l):\n",
    "        numi=(int(n[i]))%MOD\n",
    "        current=((i+1)*numi+10*prev)%MOD\n",
    "        prev=current\n",
    "        result+=current\n",
    "        result=result%MOD\n",
    "    return(result)\n",
    "print(substrings(n))"
   ]
  },
  {
   "cell_type": "markdown",
   "metadata": {},
   "source": [
    "## Modified Fibonacci"
   ]
  },
  {
   "cell_type": "code",
   "execution_count": 66,
   "metadata": {},
   "outputs": [
    {
     "name": "stdout",
     "output_type": "stream",
     "text": [
      "5\n",
      "[0, 1, 1, 2, 5, 27]\n",
      "5\n"
     ]
    }
   ],
   "source": [
    "def fibonacci(t1,t2,n):\n",
    "    f=[t1,t2]\n",
    "    for i in range(2,n+1):\n",
    "        f.append(f[i-2]+pow(f[i-1],2))\n",
    "    print(f)   \n",
    "    return f[n-1]\n",
    "n=int(input())\n",
    "print(fibonacci(0,1,n))"
   ]
  },
  {
   "cell_type": "code",
   "execution_count": null,
   "metadata": {},
   "outputs": [],
   "source": []
  }
 ],
 "metadata": {
  "kernelspec": {
   "display_name": "Python 3",
   "language": "python",
   "name": "python3"
  },
  "language_info": {
   "codemirror_mode": {
    "name": "ipython",
    "version": 3
   },
   "file_extension": ".py",
   "mimetype": "text/x-python",
   "name": "python",
   "nbconvert_exporter": "python",
   "pygments_lexer": "ipython3",
   "version": "3.6.9"
  }
 },
 "nbformat": 4,
 "nbformat_minor": 4
}
